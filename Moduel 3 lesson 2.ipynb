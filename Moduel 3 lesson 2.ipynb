{
 "cells": [
  {
   "cell_type": "code",
   "execution_count": 1,
   "metadata": {
    "collapsed": true
   },
   "outputs": [],
   "source": [
    "%matplotlib inline\n",
    "import numpy\n",
    "from matplotlib import pyplot\n",
    "from matplotlib import rcParams\n",
    "rcParams['font.family']='serif'\n",
    "rcParams['font.size']=16"
   ]
  },
  {
   "cell_type": "code",
   "execution_count": 2,
   "metadata": {
    "collapsed": false
   },
   "outputs": [],
   "source": [
    "def rho_red_light(nx, rho_max, rho_in):\n",
    "    rho=rho_max*numpy.ones(nx)\n",
    "    rho[:int((nx-1)*3./4.)]=rho_in\n",
    "    return rho"
   ]
  },
  {
   "cell_type": "code",
   "execution_count": 3,
   "metadata": {
    "collapsed": true
   },
   "outputs": [],
   "source": [
    "nx = 81\n",
    "nt = 100\n",
    "dx = 4.0/(nx-1)\n",
    "rho_in=5.\n",
    "rho_max=15.\n",
    "u_max=2.\n",
    "x=numpy.linspace(0,4,nx)\n",
    "rho=rho_red_light(nx,rho_max, rho_in)"
   ]
  },
  {
   "cell_type": "code",
   "execution_count": 4,
   "metadata": {
    "collapsed": false,
    "scrolled": true
   },
   "outputs": [
    {
     "data": {
      "image/png": "[encoded data removed]",
      "text/plain": [
       "<matplotlib.figure.Figure at 0x7fa5900a0550>"
      ]
     },
     "metadata": {},
     "output_type": "display_data"
    }
   ],
   "source": [
    "pyplot.plot(x, rho, color='#003366', ls='-', lw=3)\n",
    "pyplot.ylabel('Traffic density')\n",
    "pyplot.xlabel('Distance')\n",
    "pyplot.title('traffic flow')\n",
    "pyplot.ylim(-0.5, 11.);"
   ]
  },
  {
   "cell_type": "code",
   "execution_count": null,
   "metadata": {
    "collapsed": true
   },
   "outputs": [],
   "source": [
    "def computeF(u_max, rho_max, rho):\n",
    "    return u_max*rho*(1-rho/rho_max)"
   ]
  },
  {
   "cell_type": "code",
   "execution_count": null,
   "metadata": {
    "collapsed": true
   },
   "outputs": [],
   "source": [
    "from matplotlib import animation\n",
    "from IPython.display import HTML"
   ]
  },
  {
   "cell_type": "code",
   "execution_count": null,
   "metadata": {
    "collapsed": true
   },
   "outputs": [],
   "source": [
    "def animate(data):\n",
    "    x=numpy.linspace(0, 4, nx)\n",
    "    y= data\n",
    "    line.set_data(x,y)\n",
    "    return line,"
   ]
  },
  {
   "cell_type": "code",
   "execution_count": null,
   "metadata": {
    "collapsed": true
   },
   "outputs": [],
   "source": [
    "def laxfriedrichs(rho, nt, dt, dx, rho_max, u_max):\n",
    "   \n",
    "    rho_n = numpy.zeros((nt,len(rho)))      \n",
    "\n",
    "    rho_n[:,:] = rho.copy()              \n",
    "   \n",
    "    for t in range(1,nt):\n",
    "        F = computeF(u_max, rho_max, rho)\n",
    "        rho_n[t,1:-1] = .5*(rho[2:]+rho[:-2]) - dt/(2*dx)*(F[2:]-F[:-2])\n",
    "        rho_n[t,0] = rho[0] # boundary condition at x=0\n",
    "        rho_n[t,-1] = rho[-1] # boundary condition at x=4\n",
    "        rho = rho_n[t].copy()\n",
    "        \n",
    "    return rho_n"
   ]
  },
  {
   "cell_type": "code",
   "execution_count": null,
   "metadata": {
    "collapsed": true
   },
   "outputs": [],
   "source": [
    "sigma = 1.0\n",
    "dt = sigma*dx/u_max\n",
    "\n",
    "rho = rho_red_light(nx, rho_max, rho_in)\n",
    "rho_n = laxfriedrichs(rho, nt, dt, dx, rho_max, u_max)"
   ]
  },
  {
   "cell_type": "code",
   "execution_count": null,
   "metadata": {
    "collapsed": false
   },
   "outputs": [],
   "source": [
    "rho_n.shape"
   ]
  },
  {
   "cell_type": "code",
   "execution_count": null,
   "metadata": {
    "collapsed": false
   },
   "outputs": [],
   "source": [
    "rho_n"
   ]
  },
  {
   "cell_type": "code",
   "execution_count": null,
   "metadata": {
    "collapsed": false
   },
   "outputs": [],
   "source": [
    "fig = pyplot.figure();\n",
    "ax = pyplot.axes(xlim=(0,4),ylim=(4.5,11),xlabel=('Distance'),ylabel=('Traffic density'));\n",
    "line, = ax.plot([],[],color='#003366', lw=2);"
   ]
  },
  {
   "cell_type": "code",
   "execution_count": null,
   "metadata": {
    "collapsed": false
   },
   "outputs": [],
   "source": [
    "anim=animation.FuncAnimation(fig, animate, frames=rho_n, interval=100)\n",
    "HTML(anim.to_html5_video())"
   ]
  },
  {
   "cell_type": "code",
   "execution_count": null,
   "metadata": {
    "collapsed": false
   },
   "outputs": [],
   "source": [
    "def Jacobian(u_max, rho_max, rho):\n",
    "    return u_max*(1-2*rho/rho_max)\n",
    "\n",
    "def laxwendroff(rho, nt, dt, dx, rho_max, u_max):\n",
    "   \n",
    "    rho_n = numpy.zeros((nt,len(rho)))      \n",
    "   \n",
    "    rho_n[:,:] = rho.copy()              \n",
    "    \n",
    "\n",
    "    for t in range(1,nt):\n",
    "        F = computeF(u_max, rho_max, rho)\n",
    "        J = Jacobian(u_max, rho_max, rho)\n",
    "        \n",
    "        rho_n[t,1:-1] = rho[1:-1] - dt/(2*dx)*(F[2:]-F[:-2]) \\\n",
    "                           + dt**2/(4*dx**2) * ( (J[2:]+J[1:-1])*(F[2:]-F[1:-1]) \\\n",
    "                           - (J[1:-1]+J[:-2])*(F[1:-1]-F[:-2]) )\n",
    "        \n",
    "        rho_n[t,0] = rho[0]\n",
    "        rho_n[t,-1] = rho[-1]\n",
    "        rho = rho_n[t].copy()\n",
    "        \n",
    "    return rho_n"
   ]
  },
  {
   "cell_type": "code",
   "execution_count": null,
   "metadata": {
    "collapsed": false
   },
   "outputs": [],
   "source": [
    "rho = rho_red_light(nx, rho_max, rho_in)\n",
    "sigma = 1\n",
    "dt = sigma*dt/u_max\n",
    "rho_n = laxwendroff(rho, nt, dt, dx, rho_max, u_max)\n",
    "dt"
   ]
  },
  {
   "cell_type": "code",
   "execution_count": null,
   "metadata": {
    "collapsed": false
   },
   "outputs": [],
   "source": [
    "fig = pyplot.figure();\n",
    "ax = pyplot.axes(xlim=(0,4),ylim=(4.5,11.),xlabel=('Distance'),ylabel=('Traffic density'));\n",
    "line, = ax.plot([],[],color='#003366', lw=2);"
   ]
  },
  {
   "cell_type": "code",
   "execution_count": null,
   "metadata": {
    "collapsed": false
   },
   "outputs": [],
   "source": [
    "anim = animation.FuncAnimation(fig, animate, frames=rho_n, interval=50)\n",
    "HTML(anim.to_html5_video())"
   ]
  },
  {
   "cell_type": "code",
   "execution_count": null,
   "metadata": {
    "collapsed": false
   },
   "outputs": [],
   "source": [
    "rho = rho_red_light(nx, rho_max, rho_in)\n",
    "sigma = 0.5\n",
    "dt = sigma*dt/u_max\n",
    "rho_n = laxwendroff(rho, nt, dt, dx, rho_max, u_max)\n",
    "\n",
    "anim = animation.FuncAnimation(fig, animate, frames=rho_n, interval=50)\n",
    "HTML(anim.to_html5_video())"
   ]
  },
  {
   "cell_type": "code",
   "execution_count": null,
   "metadata": {
    "collapsed": false
   },
   "outputs": [],
   "source": [
    "def maccormack(rho, nt, dt, dx, u_max, rho_max):\n",
    "    rho_n = numpy.zeros((nt, len(rho)))\n",
    "    rho_star = numpy.empty_like(rho)\n",
    "    rho_n[:,:] = rho.copy()\n",
    "    rho_star = rho.copy()\n",
    "    \n",
    "    for t in range (1, nt):\n",
    "        F = computeF(u_max, rho_max, rho)\n",
    "        rho_star[:-1]= rho[:-1]-dt/dx*(F[1:]-F[:-1])\n",
    "        Fstar = computeF(u_max, rho_max, rho_star)\n",
    "        rho_n[t, 1:]=.5*(rho[1:]+rho_star[1:]-dt/dx*(Fstar[1:]-Fstar[:-1]))\n",
    "        rho=rho_n[t].copy()\n",
    "    return rho_n"
   ]
  },
  {
   "cell_type": "code",
   "execution_count": null,
   "metadata": {
    "collapsed": false
   },
   "outputs": [],
   "source": [
    "rho = rho_red_light(nx, rho_max, rho_in)\n",
    "sigma = 0.5\n",
    "\n",
    "\n",
    "dt = sigma*dx/u_max\n",
    "rho_n = maccormack (rho, nt, dt, dx, u_max, rho_max)\n",
    "anim = animation.FuncAnimation(fig, animate, frames = rho_n, interval=50)\n",
    "HTML(anim.to_html5_video())"
   ]
  },
  {
   "cell_type": "code",
   "execution_count": null,
   "metadata": {
    "collapsed": true
   },
   "outputs": [],
   "source": [
    "exit"
   ]
  },
  {
   "cell_type": "code",
   "execution_count": null,
   "metadata": {
    "collapsed": true
   },
   "outputs": [],
   "source": []
  }
 ],
 "metadata": {
  "anaconda-cloud": {},
  "kernelspec": {
   "display_name": "Python [default]",
   "language": "python",
   "name": "python3"
  },
  "language_info": {
   "codemirror_mode": {
    "name": "ipython",
    "version": 3
   },
   "file_extension": ".py",
   "mimetype": "text/x-python",
   "name": "python",
   "nbconvert_exporter": "python",
   "pygments_lexer": "ipython3",
   "version": "3.5.2"
  }
 },
 "nbformat": 4,
 "nbformat_minor": 1
}
