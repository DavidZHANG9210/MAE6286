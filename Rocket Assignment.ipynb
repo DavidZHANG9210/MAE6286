{
 "cells": [
  {
   "cell_type": "code",
   "execution_count": null,
   "metadata": {
    "collapsed": true
   },
   "outputs": [],
   "source": [
    "from math import sin, cos, log, ceil\n",
    "import numpy\n",
    "from matplotlib import pyplot\n",
    "%matplotlib inline\n",
    "from matplotlib import rcParams\n",
    "rcParams['font.family']='self'\n",
    "rcParams['font.size']=16"
   ]
  },
  {
   "cell_type": "code",
   "execution_count": null,
   "metadata": {
    "collapsed": true
   },
   "outputs": [],
   "source": [
    "# model parameters:\n",
    "ms=50         #unit kg weight of the rocket shell\n",
    "g = 9.81      # gravity in m s^{-2}\n",
    "p=1.091       #average air density constant throughout flight in kg/m^3\n",
    "A=pi*r^2      #maxium cross sectional area of the rocket \n",
    "r=0.5\n",
    "ve=325        #exhaust speed in m/s\n",
    "Cd=0.15       #drag coefficient\n",
    "mp0=100       #initial weight of the rocket propellant in kg"
   ]
  },
  {
   "cell_type": "code",
   "execution_count": null,
   "metadata": {
    "collapsed": true
   },
   "outputs": [],
   "source": [
    "def get_mp(t, mp0):\n",
    "    if (t>=5):\n",
    "        return 0\n",
    "    else return mp0-20*t\n",
    "T=50                  #final time\n",
    "dt=0.1                #time increment\n",
    "N=int(T/dt)+1         #number of time-steps\n",
    "#initialize the array containing the soluton for each time-step\n",
    "u=numpy.empty((N, 2))"
   ]
  },
  {
   "cell_type": "code",
   "execution_count": null,
   "metadata": {
    "collapsed": true
   },
   "outputs": [],
   "source": [
    "def f(u):\n",
    "    h=u[0]\n",
    "    v=u[1]"
   ]
  }
 ],
 "metadata": {
  "kernelspec": {
   "display_name": "Python [default]",
   "language": "python",
   "name": "python3"
  },
  "language_info": {
   "codemirror_mode": {
    "name": "ipython",
    "version": 3
   },
   "file_extension": ".py",
   "mimetype": "text/x-python",
   "name": "python",
   "nbconvert_exporter": "python",
   "pygments_lexer": "ipython3",
   "version": "3.5.2"
  }
 },
 "nbformat": 4,
 "nbformat_minor": 1
}
