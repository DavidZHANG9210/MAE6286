{
 "cells": [
  {
   "cell_type": "markdown",
   "metadata": {},
   "source": [
    "# STABILITY(3 points possible)"
   ]
  },
  {
   "cell_type": "code",
   "execution_count": 6,
   "metadata": {
    "collapsed": true
   },
   "outputs": [],
   "source": [
    "import numpy\n",
    "from matplotlib import pyplot\n",
    "%matplotlib inline\n",
    "from matplotlib import rcParams\n",
    "rcParams['font.family']='serif'\n",
    "rcParams['font.size']=16\n",
    "def linearconv(nx):\n",
    "    dx=0.2\n",
    "    nt=20\n",
    "    dt=.025\n",
    "    c=4\n",
    "    x=numpy.linspace(0,4,nx)\n",
    "    u=numpy.ones(nx)\n",
    "    lbound=numpy.where(x >= 0.5)\n",
    "    ubound=numpy.where(x <=1)\n",
    "    u[numpy.intersect1d(lbound, ubound)]=2\n",
    "    un=numpy.ones(nx)\n",
    "\n",
    "    for n in range(nt):\n",
    "        un=u.copy()\n",
    "        u[1:]=un[1:]-c*dt/dx*(un[1:]-un[0:-1])\n",
    "        u[0]=1.0\n",
    "    pyplot.plot(x, u, color='#003366', ls=\"--\", lw=3)\n",
    "    pyplot.ylim(0,2.5)"
   ]
  },
  {
   "cell_type": "code",
   "execution_count": 7,
   "metadata": {
    "collapsed": false
   },
   "outputs": [
    {
     "data": {
      "image/png": "[encoded data removed]",
      "text/plain": [
       "<matplotlib.figure.Figure at 0x7f1a17597e48>"
      ]
     },
     "metadata": {},
     "output_type": "display_data"
    }
   ],
   "source": [
    "linearconv(10000000)"
   ]
  },
  {
   "cell_type": "code",
   "execution_count": null,
   "metadata": {
    "collapsed": true
   },
   "outputs": [],
   "source": []
  }
 ],
 "metadata": {
  "kernelspec": {
   "display_name": "Python [default]",
   "language": "python",
   "name": "python3"
  },
  "language_info": {
   "codemirror_mode": {
    "name": "ipython",
    "version": 3
   },
   "file_extension": ".py",
   "mimetype": "text/x-python",
   "name": "python",
   "nbconvert_exporter": "python",
   "pygments_lexer": "ipython3",
   "version": "3.5.2"
  }
 },
 "nbformat": 4,
 "nbformat_minor": 1
}
