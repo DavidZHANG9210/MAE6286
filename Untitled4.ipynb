{
 "cells": [
  {
   "cell_type": "code",
   "execution_count": 13,
   "metadata": {
    "collapsed": false
   },
   "outputs": [
    {
     "name": "stdout",
     "output_type": "stream",
     "text": [
      "[ 0.   0.   0.   0.   0.   0.   0.   0.   0.   0.   0.   0.   0.   0.   0.\n",
      "  0.   0.   0.   0.   0.5  1.   0.5  0.   0.   0.   0.   0.   0.   0.   0.\n",
      "  0.   0.   0.   0.   0.   0.   0.   0.   0.   0.   0. ]\n"
     ]
    },
    {
     "data": {
      "image/png": "[encoded data removed]",
      "text/plain": [
       "<matplotlib.figure.Figure at 0x7f99f28b2978>"
      ]
     },
     "metadata": {},
     "output_type": "display_data"
    }
   ],
   "source": [
    "import numpy                       \n",
    "from matplotlib import pyplot                 \n",
    "%matplotlib inline\n",
    "from matplotlib import rcParams\n",
    "rcParams['font.family'] = 'serif'\n",
    "rcParams['font.size'] = 16\n",
    "##problem parameters\n",
    "nx = 41\n",
    "dx = 2/(nx-1)\n",
    "nt = 4\n",
    "sigma=0.8\n",
    "c=1\n",
    "dx=0.05\n",
    "dt=sigma*dx/c\n",
    "x = numpy.arange(0, 2+dx, dx)\n",
    "u = numpy.zeros(nx)    #numpy function ones()\n",
    "un = numpy.zeros(nx)\n",
    "uzero= numpy.zeros(nx)\n",
    "for i in range (nx):\n",
    "    if 0.9<=x[i]and x[i]<=1:\n",
    "        u[i]=10*(x[i]-0.9)\n",
    "    if 1.0<=x[i] and x[i]<=1.1:\n",
    "        u[i]=10*(1.1-x[i])\n",
    "uzero[:]=u[:]\n",
    "print(u)\n",
    "\n",
    "pyplot.plot(x, u, color='#003366', ls='--', lw=3)\n",
    "pyplot.ylim(0,2.5);"
   ]
  },
  {
   "cell_type": "code",
   "execution_count": 14,
   "metadata": {
    "collapsed": false
   },
   "outputs": [
    {
     "data": {
      "image/png": "[encoded data removed]",
      "text/plain": [
       "<matplotlib.figure.Figure at 0x7f99f2895710>"
      ]
     },
     "metadata": {},
     "output_type": "display_data"
    }
   ],
   "source": [
    "# dt = 0.9*dx/(numpy.max(u)) \n",
    "for n in range(1, nt):  \n",
    "    un = u.copy() \n",
    "    u[2:] = un[2:]-1*dt/dx*(un[2:]-un[0:-2]) \n",
    "    \n",
    "pyplot.plot(x, u, color='#003366', ls='--', lw=3)\n",
    "pyplot.ylim(0,2.5);"
   ]
  },
  {
   "cell_type": "code",
   "execution_count": null,
   "metadata": {
    "collapsed": true
   },
   "outputs": [],
   "source": []
  },
  {
   "cell_type": "code",
   "execution_count": null,
   "metadata": {
    "collapsed": true
   },
   "outputs": [],
   "source": []
  }
 ],
 "metadata": {
  "anaconda-cloud": {},
  "kernelspec": {
   "display_name": "Python [default]",
   "language": "python",
   "name": "python3"
  },
  "language_info": {
   "codemirror_mode": {
    "name": "ipython",
    "version": 3
   },
   "file_extension": ".py",
   "mimetype": "text/x-python",
   "name": "python",
   "nbconvert_exporter": "python",
   "pygments_lexer": "ipython3",
   "version": "3.5.2"
  }
 },
 "nbformat": 4,
 "nbformat_minor": 1
}
