{
 "cells": [
  {
   "cell_type": "markdown",
   "metadata": {},
   "source": [
    "# STABILITY(3 points possible)"
   ]
  },
  {
   "cell_type": "code",
   "execution_count": 6,
   "metadata": {
    "collapsed": true
   },
   "outputs": [],
   "source": [
    "import numpy\n",
    "from matplotlib import pyplot\n",
    "%matplotlib inline\n",
    "from matplotlib import rcParams\n",
    "rcParams['font.family']='serif'\n",
    "rcParams['font.size']=16\n",
    "def linearconv(nx):\n",
    "    dx=0.2\n",
    "    nt=20\n",
    "    dt=.025\n",
    "    c=4\n",
    "    x=numpy.linspace(0,4,nx)\n",
    "    u=numpy.ones(nx)\n",
    "    lbound=numpy.where(x >= 0.5)\n",
    "    ubound=numpy.where(x <=1)\n",
    "    u[numpy.intersect1d(lbound, ubound)]=2\n",
    "    un=numpy.ones(nx)\n",
    "\n",
    "    for n in range(nt):\n",
    "        un=u.copy()\n",
    "        u[1:]=un[1:]-c*dt/dx*(un[1:]-un[0:-1])\n",
    "        u[0]=1.0\n",
    "    pyplot.plot(x, u, color='#003366', ls=\"--\", lw=3)\n",
    "    pyplot.ylim(0,2.5)"
   ]
  },
  {
   "cell_type": "code",
   "execution_count": 7,
   "metadata": {
    "collapsed": false
   },
   "outputs": [
    {
     "data": {
      "image/png": "[encoded data removed]",
      "text/plain": [
       "<matplotlib.figure.Figure at 0x7f1a17597e48>"
      ]
     },
     "metadata": {},
     "output_type": "display_data"
    }
   ],
   "source": [
    "linearconv(10000000)"
   ]
  },
  {
   "cell_type": "markdown",
   "metadata": {},
   "source": [
    "# "
   ]
  },
  {
   "cell_type": "code",
   "execution_count": 33,
   "metadata": {
    "collapsed": false
   },
   "outputs": [],
   "source": [
    "import numpy\n",
    "import sympy\n",
    "from matplotlib import pyplot\n",
    "%matplotlib inline\n",
    "from matplotlib import rcParams\n",
    "rcParams['font.family']='serif'\n",
    "rcParams['font.size']=16"
   ]
  },
  {
   "cell_type": "code",
   "execution_count": 34,
   "metadata": {
    "collapsed": true
   },
   "outputs": [],
   "source": [
    "from sympy import init_printing\n",
    "init_printing()"
   ]
  },
  {
   "cell_type": "code",
   "execution_count": 35,
   "metadata": {
    "collapsed": false
   },
   "outputs": [],
   "source": [
    "x=sympy.symbols('x')"
   ]
  },
  {
   "cell_type": "code",
   "execution_count": 36,
   "metadata": {
    "collapsed": false
   },
   "outputs": [
    {
     "data": {
      "image/png": "[encoded data removed]",
      "text/latex": [
       "$$x$$"
      ],
      "text/plain": [
       "x"
      ]
     },
     "execution_count": 36,
     "metadata": {},
     "output_type": "execute_result"
    }
   ],
   "source": [
    "x"
   ]
  },
  {
   "cell_type": "code",
   "execution_count": 37,
   "metadata": {
    "collapsed": false
   },
   "outputs": [
    {
     "data": {
      "image/png": "[encoded data removed]",
      "text/latex": [
       "$$\\frac{\\cos^{2}{\\left (x \\right )}}{4 x^{5}} e^{- x} \\sin^{3}{\\left (x \\right )}$$"
      ],
      "text/plain": [
       " -x    3       2   \n",
       "ℯ  ⋅sin (x)⋅cos (x)\n",
       "───────────────────\n",
       "           5       \n",
       "        4⋅x        "
      ]
     },
     "execution_count": 37,
     "metadata": {},
     "output_type": "execute_result"
    }
   ],
   "source": [
    "F=(sympy.sin(x)**3)*(sympy.cos(x)**2)/(4*x**5*sympy.exp(x))\n",
    "F"
   ]
  },
  {
   "cell_type": "code",
   "execution_count": 38,
   "metadata": {
    "collapsed": false
   },
   "outputs": [
    {
     "data": {
      "image/png": "[encoded data removed]",
      "text/latex": [
       "$$- \\frac{\\sin^{4}{\\left (x \\right )}}{2 x^{5}} e^{- x} \\cos{\\left (x \\right )} - \\frac{\\cos^{2}{\\left (x \\right )}}{4 x^{5}} e^{- x} \\sin^{3}{\\left (x \\right )} + \\frac{3 e^{- x}}{4 x^{5}} \\sin^{2}{\\left (x \\right )} \\cos^{3}{\\left (x \\right )} - \\frac{5 e^{- x}}{4 x^{6}} \\sin^{3}{\\left (x \\right )} \\cos^{2}{\\left (x \\right )}$$"
      ],
      "text/plain": [
       "   -x    4              -x    3       2         -x    2       3         -x    \n",
       "  ℯ  ⋅sin (x)⋅cos(x)   ℯ  ⋅sin (x)⋅cos (x)   3⋅ℯ  ⋅sin (x)⋅cos (x)   5⋅ℯ  ⋅sin\n",
       "- ────────────────── - ─────────────────── + ───────────────────── - ─────────\n",
       "            5                     5                      5                    \n",
       "         2⋅x                   4⋅x                    4⋅x                     \n",
       "\n",
       "3       2   \n",
       " (x)⋅cos (x)\n",
       "────────────\n",
       "   6        \n",
       "4⋅x         "
      ]
     },
     "execution_count": 38,
     "metadata": {},
     "output_type": "execute_result"
    }
   ],
   "source": [
    "dF=F.diff(x)\n",
    "dF"
   ]
  },
  {
   "cell_type": "code",
   "execution_count": 39,
   "metadata": {
    "collapsed": false
   },
   "outputs": [
    {
     "name": "stdout",
     "output_type": "stream",
     "text": [
      "-exp(-x)*sin(x)**4*cos(x)/(2*x**5) - exp(-x)*sin(x)**3*cos(x)**2/(4*x**5) + 3*exp(-x)*sin(x)**2*cos(x)**3/(4*x**5) - 5*exp(-x)*sin(x)**3*cos(x)**2/(4*x**6)\n"
     ]
    }
   ],
   "source": [
    "from sympy.utilities.lambdify import lambdify\n",
    "\n",
    "print(dF)"
   ]
  },
  {
   "cell_type": "code",
   "execution_count": 40,
   "metadata": {
    "collapsed": false
   },
   "outputs": [
    {
     "name": "stdout",
     "output_type": "stream",
     "text": [
      "The value of u at x=2.2 is -0.00026648912670920613.\n"
     ]
    }
   ],
   "source": [
    "dF_lamb = lambdify((x), dF)\n",
    "print(\"The value of u at x=2.2 is {}.\" .format(dF_lamb(2.2)))"
   ]
  },
  {
   "cell_type": "code",
   "execution_count": null,
   "metadata": {
    "collapsed": true
   },
   "outputs": [],
   "source": []
  }
 ],
 "metadata": {
  "anaconda-cloud": {},
  "kernelspec": {
   "display_name": "Python [default]",
   "language": "python",
   "name": "python3"
  },
  "language_info": {
   "codemirror_mode": {
    "name": "ipython",
    "version": 3
   },
   "file_extension": ".py",
   "mimetype": "text/x-python",
   "name": "python",
   "nbconvert_exporter": "python",
   "pygments_lexer": "ipython3",
   "version": "3.5.2"
  }
 },
 "nbformat": 4,
 "nbformat_minor": 1
}
