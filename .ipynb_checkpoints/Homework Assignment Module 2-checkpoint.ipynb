{
 "cells": [
  {
   "cell_type": "markdown",
   "metadata": {},
   "source": [
    "# STABILITY(3 points possible)"
   ]
  },
  {
   "cell_type": "code",
   "execution_count": 12,
   "metadata": {
    "collapsed": true
   },
   "outputs": [],
   "source": [
    "import numpy\n",
    "from matplotlib import pyplot\n",
    "%matplotlib inline\n",
    "from matplotlib import rcParams\n",
    "rcParams['font.family']='serif'\n",
    "rcParams['font.size']=16\n",
    "def linearconv(nx):\n",
    "    dx=0.2\n",
    "    nt=20\n",
    "    dt=.025\n",
    "    c=4\n",
    "    x=numpy.linspace(0,4,nx)\n",
    "    u=numpy.ones(nx)\n",
    "    lbound=numpy.where(x >= 0.5)\n",
    "    ubound=numpy.where(x <=1)\n",
    "    u[numpy.intersect1d(lbound, ubound)]=2\n",
    "    un=numpy.ones(nx)\n",
    "\n",
    "    for n in range(nt):\n",
    "        un=u.copy()\n",
    "        u[1:]=un[1:]-c*dt/dx*(un[1:]-un[0:-1])\n",
    "        u[0]=1.0\n",
    "    pyplot.plot(x, u, color='#003366', ls=\"--\", lw=3)\n",
    "    pyplot.ylim(0,2.5)"
   ]
  },
  {
   "cell_type": "markdown",
   "metadata": {
    "collapsed": false
   },
   "source": [
    "# SYMPY"
   ]
  },
  {
   "cell_type": "code",
   "execution_count": 13,
   "metadata": {
    "collapsed": false
   },
   "outputs": [],
   "source": [
    "import numpy\n",
    "import sympy\n",
    "from matplotlib import pyplot\n",
    "%matplotlib inline\n",
    "from matplotlib import rcParams\n",
    "rcParams['font.family']='serif'\n",
    "rcParams['font.size']=16"
   ]
  },
  {
   "cell_type": "code",
   "execution_count": 14,
   "metadata": {
    "collapsed": true
   },
   "outputs": [],
   "source": [
    "from sympy import init_printing\n",
    "init_printing()"
   ]
  },
  {
   "cell_type": "code",
   "execution_count": 15,
   "metadata": {
    "collapsed": false
   },
   "outputs": [],
   "source": [
    "x=sympy.symbols('x')"
   ]
  },
  {
   "cell_type": "code",
   "execution_count": 16,
   "metadata": {
    "collapsed": false
   },
   "outputs": [
    {
     "data": {
      "image/png": "[encoded data removed]",
      "text/latex": [
       "$$x$$"
      ],
      "text/plain": [
       "x"
      ]
     },
     "execution_count": 16,
     "metadata": {},
     "output_type": "execute_result"
    }
   ],
   "source": [
    "x"
   ]
  },
  {
   "cell_type": "code",
   "execution_count": 17,
   "metadata": {
    "collapsed": false
   },
   "outputs": [
    {
     "data": {
      "image/png": "[encoded data removed]",
      "text/latex": [
       "$$\\frac{\\cos^{2}{\\left (x \\right )}}{4 x^{5}} e^{- x} \\sin^{3}{\\left (x \\right )}$$"
      ],
      "text/plain": [
       " -x    3       2   \n",
       "ℯ  ⋅sin (x)⋅cos (x)\n",
       "───────────────────\n",
       "           5       \n",
       "        4⋅x        "
      ]
     },
     "execution_count": 17,
     "metadata": {},
     "output_type": "execute_result"
    }
   ],
   "source": [
    "F=(sympy.sin(x)**3)*(sympy.cos(x)**2)/(4*x**5*sympy.exp(x))\n",
    "F"
   ]
  },
  {
   "cell_type": "code",
   "execution_count": 18,
   "metadata": {
    "collapsed": false
   },
   "outputs": [
    {
     "data": {
      "image/png": "[encoded data removed]",
      "text/latex": [
       "$$- \\frac{\\sin^{4}{\\left (x \\right )}}{2 x^{5}} e^{- x} \\cos{\\left (x \\right )} - \\frac{\\cos^{2}{\\left (x \\right )}}{4 x^{5}} e^{- x} \\sin^{3}{\\left (x \\right )} + \\frac{3 e^{- x}}{4 x^{5}} \\sin^{2}{\\left (x \\right )} \\cos^{3}{\\left (x \\right )} - \\frac{5 e^{- x}}{4 x^{6}} \\sin^{3}{\\left (x \\right )} \\cos^{2}{\\left (x \\right )}$$"
      ],
      "text/plain": [
       "   -x    4              -x    3       2         -x    2       3         -x    \n",
       "  ℯ  ⋅sin (x)⋅cos(x)   ℯ  ⋅sin (x)⋅cos (x)   3⋅ℯ  ⋅sin (x)⋅cos (x)   5⋅ℯ  ⋅sin\n",
       "- ────────────────── - ─────────────────── + ───────────────────── - ─────────\n",
       "            5                     5                      5                    \n",
       "         2⋅x                   4⋅x                    4⋅x                     \n",
       "\n",
       "3       2   \n",
       " (x)⋅cos (x)\n",
       "────────────\n",
       "   6        \n",
       "4⋅x         "
      ]
     },
     "execution_count": 18,
     "metadata": {},
     "output_type": "execute_result"
    }
   ],
   "source": [
    "dF=F.diff(x)\n",
    "dF"
   ]
  },
  {
   "cell_type": "code",
   "execution_count": 19,
   "metadata": {
    "collapsed": false
   },
   "outputs": [
    {
     "name": "stdout",
     "output_type": "stream",
     "text": [
      "-exp(-x)*sin(x)**4*cos(x)/(2*x**5) - exp(-x)*sin(x)**3*cos(x)**2/(4*x**5) + 3*exp(-x)*sin(x)**2*cos(x)**3/(4*x**5) - 5*exp(-x)*sin(x)**3*cos(x)**2/(4*x**6)\n"
     ]
    }
   ],
   "source": [
    "from sympy.utilities.lambdify import lambdify\n",
    "\n",
    "print(dF)"
   ]
  },
  {
   "cell_type": "code",
   "execution_count": 20,
   "metadata": {
    "collapsed": false,
    "scrolled": true
   },
   "outputs": [
    {
     "name": "stdout",
     "output_type": "stream",
     "text": [
      "The value of u at x=2.2 is -0.00026648912670920613.\n"
     ]
    }
   ],
   "source": [
    "dF_lamb = lambdify((x), dF)\n",
    "print(\"The value of u at x=2.2 is {}.\" .format(dF_lamb(2.2)))"
   ]
  },
  {
   "cell_type": "markdown",
   "metadata": {},
   "source": [
    "# Traffic flow"
   ]
  },
  {
   "cell_type": "code",
   "execution_count": 12,
   "metadata": {
    "collapsed": true
   },
   "outputs": [],
   "source": [
    "import numpy\n",
    "import sympy\n",
    "from matplotlib import pyplot\n",
    "%matplotlib inline\n",
    "from matplotlib import rcParams\n",
    "rcParams['font.family']='serif'\n",
    "rcParams['font.size']=16\n",
    "from sympy import init_printing\n",
    "init_printing()\n",
    "from sympy.utilities.lambdify import lambdify"
   ]
  },
  {
   "cell_type": "code",
   "execution_count": 13,
   "metadata": {
    "collapsed": false
   },
   "outputs": [],
   "source": [
    "p, Pmax, Vmax = sympy.symbols('p Pmax Vmax')\n"
   ]
  },
  {
   "cell_type": "code",
   "execution_count": 14,
   "metadata": {
    "collapsed": false
   },
   "outputs": [
    {
     "data": {
      "image/png": "[encoded data removed]",
      "text/latex": [
       "$$Vmax p \\left(1 - \\frac{p}{Pmax}\\right)$$"
      ],
      "text/plain": [
       "       ⎛     p  ⎞\n",
       "Vmax⋅p⋅⎜1 - ────⎟\n",
       "       ⎝    Pmax⎠"
      ]
     },
     "execution_count": 14,
     "metadata": {},
     "output_type": "execute_result"
    }
   ],
   "source": [
    "F = Vmax*p*(1-p/Pmax)\n",
    "F"
   ]
  },
  {
   "cell_type": "code",
   "execution_count": 15,
   "metadata": {
    "collapsed": false
   },
   "outputs": [
    {
     "data": {
      "image/png": "[encoded data removed]",
      "text/latex": [
       "$$Vmax \\left(1 - \\frac{p}{Pmax}\\right) - \\frac{Vmax p}{Pmax}$$"
      ],
      "text/plain": [
       "     ⎛     p  ⎞   Vmax⋅p\n",
       "Vmax⋅⎜1 - ────⎟ - ──────\n",
       "     ⎝    Pmax⎠    Pmax "
      ]
     },
     "execution_count": 15,
     "metadata": {},
     "output_type": "execute_result"
    }
   ],
   "source": [
    "dF=F.diff(p)\n",
    "dF"
   ]
  },
  {
   "cell_type": "code",
   "execution_count": 16,
   "metadata": {
    "collapsed": false
   },
   "outputs": [
    {
     "name": "stdout",
     "output_type": "stream",
     "text": [
      "[ 10.  10.  10.  10.  10.  10.  10.  10.  10.  10.  50.  50.  50.  50.  50.\n",
      "  50.  50.  50.  50.  50.  10.  10.  10.  10.  10.  10.  10.  10.  10.  10.\n",
      "  10.  10.  10.  10.  10.  10.  10.  10.  10.  10.  10.  10.  10.  10.  10.\n",
      "  10.  10.  10.  10.  10.  10.]\n",
      "[ 10.  10.  10.  10.  10.  10.  10.  10.  10.  10.  50.  50.  50.  50.  50.\n",
      "  50.  50.  50.  50.  50.  10.  10.  10.  10.  10.  10.  10.  10.  10.  10.\n",
      "  10.  10.  10.  10.  10.  10.  10.  10.  10.  10.  10.  10.  10.  10.  10.\n",
      "  10.  10.  10.  10.  10.  10.]\n"
     ]
    }
   ],
   "source": [
    "#set initial parameters\n",
    "Vmax = 80    #m/s\n",
    "L = 11   #m\n",
    "nx = 51\n",
    "dx = L/(nx-1)\n",
    "Pmax = 250  #cars/m\n",
    "\n",
    "dt = 0.001    #length of time step s\n",
    "nt = 50    #set time range s\n",
    "x = numpy.linspace(0, L, nx)\n",
    "rho0 = numpy.ones(nx)*10\n",
    "rho0[10:20] = 50\n",
    "print(rho0)\n",
    "p = rho0\n",
    "print(p)"
   ]
  },
  {
   "cell_type": "code",
   "execution_count": 17,
   "metadata": {
    "collapsed": false
   },
   "outputs": [
    {
     "data": {
      "image/png": "[encoded data removed]",
      "text/latex": [
       "$$\\left ( 0, \\quad 80\\right )$$"
      ],
      "text/plain": [
       "(0, 80)"
      ]
     },
     "execution_count": 17,
     "metadata": {},
     "output_type": "execute_result"
    },
    {
     "data": {
      "image/png": "[encoded data removed]",
      "text/plain": [
       "<matplotlib.figure.Figure at 0x7f3563e0a550>"
      ]
     },
     "metadata": {},
     "output_type": "display_data"
    }
   ],
   "source": [
    "pyplot.plot(x, p, color='#003366', ls='--', lw=3)\n",
    "pyplot.ylim(0,80)"
   ]
  },
  {
   "cell_type": "code",
   "execution_count": 18,
   "metadata": {
    "collapsed": false
   },
   "outputs": [],
   "source": [
    "for n in range (1, nt):\n",
    "    pn=p.copy()\n",
    "    for i in range (1, nx):\n",
    "        \n",
    "        p[i]=pn[i]+(2*pn[i]*Vmax/Pmax-Vmax)*(pn[i]-pn[i-1])*dt/dx"
   ]
  },
  {
   "cell_type": "code",
   "execution_count": 37,
   "metadata": {
    "collapsed": false
   },
   "outputs": [
    {
     "data": {
      "image/png": "[encoded data removed]",
      "text/plain": [
       "<matplotlib.figure.Figure at 0x7f3566416c88>"
      ]
     },
     "metadata": {},
     "output_type": "display_data"
    }
   ],
   "source": [
    "pyplot.plot(x, p, color='#003366', lw=3)\n",
    "pyplot.ylim (0, 50)\n",
    "pyplot.grid()"
   ]
  },
  {
   "cell_type": "code",
   "execution_count": 32,
   "metadata": {
    "collapsed": false
   },
   "outputs": [
    {
     "data": {
      "image/png": "[encoded data removed]",
      "text/latex": [
       "$$46.6618756822$$"
      ],
      "text/plain": [
       "46.6618756822"
      ]
     },
     "execution_count": 32,
     "metadata": {},
     "output_type": "execute_result"
    }
   ],
   "source": [
    "pmax=max(p)\n",
    "pmax"
   ]
  },
  {
   "cell_type": "code",
   "execution_count": 29,
   "metadata": {
    "collapsed": false
   },
   "outputs": [],
   "source": [
    "v=Vmax*(1-p/Pmax)"
   ]
  },
  {
   "cell_type": "code",
   "execution_count": 30,
   "metadata": {
    "collapsed": true
   },
   "outputs": [],
   "source": [
    "AverageV = numpy.mean(v)/3.6"
   ]
  },
  {
   "cell_type": "code",
   "execution_count": 31,
   "metadata": {
    "collapsed": false
   },
   "outputs": [
    {
     "data": {
      "image/png": "[encoded data removed]",
      "text/latex": [
       "$$20.5626526038$$"
      ],
      "text/plain": [
       "20.5626526038"
      ]
     },
     "execution_count": 31,
     "metadata": {},
     "output_type": "execute_result"
    }
   ],
   "source": [
    "AverageV"
   ]
  },
  {
   "cell_type": "code",
   "execution_count": 34,
   "metadata": {
    "collapsed": false
   },
   "outputs": [
    {
     "data": {
      "image/png": "[encoded data removed]",
      "text/latex": [
       "$$18.0744999394$$"
      ],
      "text/plain": [
       "18.0744999394"
      ]
     },
     "execution_count": 34,
     "metadata": {},
     "output_type": "execute_result"
    }
   ],
   "source": [
    "Vmin=Vmax*(1-pmax/Pmax)\n",
    "Vmin/3.6"
   ]
  },
  {
   "cell_type": "markdown",
   "metadata": {},
   "source": [
    "# minimun velocity at time t=6 minutes"
   ]
  },
  {
   "cell_type": "code",
   "execution_count": 40,
   "metadata": {
    "collapsed": false
   },
   "outputs": [
    {
     "name": "stdout",
     "output_type": "stream",
     "text": [
      "[ 10.  10.  10.  10.  10.  10.  10.  10.  10.  10.  50.  50.  50.  50.  50.\n",
      "  50.  50.  50.  50.  50.  10.  10.  10.  10.  10.  10.  10.  10.  10.  10.\n",
      "  10.  10.  10.  10.  10.  10.  10.  10.  10.  10.  10.  10.  10.  10.  10.\n",
      "  10.  10.  10.  10.  10.  10.]\n",
      "[ 10.  10.  10.  10.  10.  10.  10.  10.  10.  10.  50.  50.  50.  50.  50.\n",
      "  50.  50.  50.  50.  50.  10.  10.  10.  10.  10.  10.  10.  10.  10.  10.\n",
      "  10.  10.  10.  10.  10.  10.  10.  10.  10.  10.  10.  10.  10.  10.  10.\n",
      "  10.  10.  10.  10.  10.  10.]\n"
     ]
    }
   ],
   "source": [
    "#set initial parameters\n",
    "Vmax = 80    #m/s\n",
    "L = 11   #m\n",
    "nx = 51\n",
    "dx = L/(nx-1)\n",
    "Pmax = 250  #cars/m\n",
    "\n",
    "dt = 0.001    #length of time step s\n",
    "t=0.1         #6min=0.1 hour\n",
    "nt = int(t/dt)    #set time range s\n",
    "x = numpy.linspace(0, L, nx)\n",
    "rho0 = numpy.ones(nx)*10\n",
    "rho0[10:20] = 50\n",
    "print(rho0)\n",
    "p = rho0\n",
    "print(p)"
   ]
  },
  {
   "cell_type": "code",
   "execution_count": 41,
   "metadata": {
    "collapsed": false
   },
   "outputs": [
    {
     "data": {
      "image/png": "[encoded data removed]",
      "text/plain": [
       "<matplotlib.figure.Figure at 0x7f358ab56b70>"
      ]
     },
     "metadata": {},
     "output_type": "display_data"
    }
   ],
   "source": [
    "for n in range (1, nt):\n",
    "    pn=p.copy()\n",
    "    for i in range (1, nx):\n",
    "        \n",
    "        p[i]=pn[i]+(2*pn[i]*Vmax/Pmax-Vmax)*(pn[i]-pn[i-1])*dt/dx\n",
    "pyplot.plot(x, p, color='#003366', lw=3)\n",
    "pyplot.ylim (0, 50)\n",
    "pyplot.grid()"
   ]
  },
  {
   "cell_type": "code",
   "execution_count": 49,
   "metadata": {
    "collapsed": false
   },
   "outputs": [
    {
     "data": {
      "image/png": "[encoded data removed]",
      "text/latex": [
       "$$\\left ( 10, \\quad 25\\right )$$"
      ],
      "text/plain": [
       "(10, 25)"
      ]
     },
     "execution_count": 49,
     "metadata": {},
     "output_type": "execute_result"
    },
    {
     "data": {
      "image/png": "[encoded data removed]",
      "text/plain": [
       "<matplotlib.figure.Figure at 0x7f3565f711d0>"
      ]
     },
     "metadata": {},
     "output_type": "display_data"
    }
   ],
   "source": [
    "V6=Vmax*(1-p/Pmax)/3.6\n",
    "pyplot.plot(x, V6, color='#003366', lw=3)\n",
    "pyplot.ylim(10, 25)"
   ]
  },
  {
   "cell_type": "code",
   "execution_count": 50,
   "metadata": {
    "collapsed": false
   },
   "outputs": [
    {
     "data": {
      "image/png": "[encoded data removed]",
      "text/latex": [
       "$$18.5661281915$$"
      ],
      "text/plain": [
       "18.5661281915"
      ]
     },
     "execution_count": 50,
     "metadata": {},
     "output_type": "execute_result"
    }
   ],
   "source": [
    "V6min=min(V6)\n",
    "V6min"
   ]
  },
  {
   "cell_type": "markdown",
   "metadata": {},
   "source": [
    "# condition 2"
   ]
  },
  {
   "cell_type": "code",
   "execution_count": 53,
   "metadata": {
    "collapsed": false
   },
   "outputs": [
    {
     "name": "stdout",
     "output_type": "stream",
     "text": [
      "[ 20.  20.  20.  20.  20.  20.  20.  20.  20.  20.  50.  50.  50.  50.  50.\n",
      "  50.  50.  50.  50.  50.  20.  20.  20.  20.  20.  20.  20.  20.  20.  20.\n",
      "  20.  20.  20.  20.  20.  20.  20.  20.  20.  20.  20.  20.  20.  20.  20.\n",
      "  20.  20.  20.  20.  20.  20.]\n",
      "[ 20.  20.  20.  20.  20.  20.  20.  20.  20.  20.  50.  50.  50.  50.  50.\n",
      "  50.  50.  50.  50.  50.  20.  20.  20.  20.  20.  20.  20.  20.  20.  20.\n",
      "  20.  20.  20.  20.  20.  20.  20.  20.  20.  20.  20.  20.  20.  20.  20.\n",
      "  20.  20.  20.  20.  20.  20.]\n"
     ]
    }
   ],
   "source": [
    "#set initial parameters\n",
    "Vmax = 136    #m/s\n",
    "L = 11   #m\n",
    "nx = 51\n",
    "dx = L/(nx-1)\n",
    "Pmax = 250  #cars/m\n",
    "\n",
    "dt = 0.001    #length of time step s\n",
    "t=0.05        #6min=0.1 hour\n",
    "nt = int(t/dt)    #set time range s\n",
    "x = numpy.linspace(0, L, nx)\n",
    "rho0 = numpy.ones(nx)*20\n",
    "rho0[10:20] = 50\n",
    "print(rho0)\n",
    "p = rho0\n",
    "print(p)"
   ]
  },
  {
   "cell_type": "code",
   "execution_count": 54,
   "metadata": {
    "collapsed": false
   },
   "outputs": [
    {
     "data": {
      "image/png": "[encoded data removed]",
      "text/plain": [
       "<matplotlib.figure.Figure at 0x7f3565fd8dd8>"
      ]
     },
     "metadata": {},
     "output_type": "display_data"
    }
   ],
   "source": [
    "for n in range (1, nt):\n",
    "    pn=p.copy()\n",
    "    for i in range (1, nx):\n",
    "        \n",
    "        p[i]=pn[i]+(2*pn[i]*Vmax/Pmax-Vmax)*(pn[i]-pn[i-1])*dt/dx\n",
    "pyplot.plot(x, p, color='#003366', lw=3)\n",
    "pyplot.ylim (0, 50)\n",
    "pyplot.grid()"
   ]
  },
  {
   "cell_type": "code",
   "execution_count": 55,
   "metadata": {
    "collapsed": false
   },
   "outputs": [
    {
     "data": {
      "image/png": "[encoded data removed]",
      "text/latex": [
       "$$46.2775614423$$"
      ],
      "text/plain": [
       "46.2775614423"
      ]
     },
     "execution_count": 55,
     "metadata": {},
     "output_type": "execute_result"
    }
   ],
   "source": [
    "pmax=max(p)\n",
    "pmax"
   ]
  },
  {
   "cell_type": "code",
   "execution_count": 56,
   "metadata": {
    "collapsed": false
   },
   "outputs": [
    {
     "data": {
      "image/png": "[encoded data removed]",
      "text/latex": [
       "$$30.7847240487$$"
      ],
      "text/plain": [
       "30.7847240487"
      ]
     },
     "execution_count": 56,
     "metadata": {},
     "output_type": "execute_result"
    }
   ],
   "source": [
    "Vmin=Vmax*(1-pmax/Pmax)\n",
    "Vmin/3.6"
   ]
  },
  {
   "cell_type": "code",
   "execution_count": 57,
   "metadata": {
    "collapsed": true
   },
   "outputs": [],
   "source": [
    "v=Vmax*(1-p/Pmax)\n",
    "AverageV2 = numpy.mean(v)/3.6"
   ]
  },
  {
   "cell_type": "code",
   "execution_count": 58,
   "metadata": {
    "collapsed": false
   },
   "outputs": [
    {
     "data": {
      "image/png": "[encoded data removed]",
      "text/latex": [
       "$$33.7641357386$$"
      ],
      "text/plain": [
       "33.7641357386"
      ]
     },
     "execution_count": 58,
     "metadata": {},
     "output_type": "execute_result"
    }
   ],
   "source": [
    "AverageV2"
   ]
  },
  {
   "cell_type": "code",
   "execution_count": 61,
   "metadata": {
    "collapsed": true
   },
   "outputs": [],
   "source": [
    "Vmin2=numpy.min(v)/3.6"
   ]
  },
  {
   "cell_type": "code",
   "execution_count": 62,
   "metadata": {
    "collapsed": false
   },
   "outputs": [
    {
     "data": {
      "image/png": "[encoded data removed]",
      "text/latex": [
       "$$30.7847240487$$"
      ],
      "text/plain": [
       "30.7847240487"
      ]
     },
     "execution_count": 62,
     "metadata": {},
     "output_type": "execute_result"
    }
   ],
   "source": [
    "Vmin2"
   ]
  },
  {
   "cell_type": "code",
   "execution_count": null,
   "metadata": {
    "collapsed": true
   },
   "outputs": [],
   "source": []
  }
 ],
 "metadata": {
  "anaconda-cloud": {},
  "kernelspec": {
   "display_name": "Python [default]",
   "language": "python",
   "name": "python3"
  }
 },
 "nbformat": 4,
 "nbformat_minor": 1
}
