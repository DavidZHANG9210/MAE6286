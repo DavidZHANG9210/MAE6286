{
 "cells": [
  {
   "cell_type": "code",
   "execution_count": null,
   "metadata": {
    "collapsed": true
   },
   "outputs": [],
   "source": [
    "import numpy\n",
    "from matplotlib import pyplot\n",
    "%matplotlib inline\n",
    "from matplotlib import rcParams, cm\n",
    "rcParams['font.family'] = 'serif'\n",
    "rcParams['font.size'] = 16"
   ]
  },
  {
   "cell_type": "markdown",
   "metadata": {},
   "source": [
    "import uvinitial"
   ]
  },
  {
   "cell_type": "code",
   "execution_count": null,
   "metadata": {
    "collapsed": false
   },
   "outputs": [],
   "source": [
    "import numpy\n",
    "uvinitial = numpy.load('/home/davidzhang9210/workspace/uvinitial.npz')\n",
    "U = uvinitial['U']\n",
    "V = uvinitial['V']"
   ]
  },
  {
   "cell_type": "code",
   "execution_count": null,
   "metadata": {
    "collapsed": false
   },
   "outputs": [],
   "source": [
    "U"
   ]
  },
  {
   "cell_type": "code",
   "execution_count": null,
   "metadata": {
    "collapsed": false
   },
   "outputs": [],
   "source": [
    "V"
   ]
  },
  {
   "cell_type": "markdown",
   "metadata": {},
   "source": [
    "According to link http://stackoverflow.com/questions/21071128/matplotlib-plot-numpy-matrix-as-0-index"
   ]
  },
  {
   "cell_type": "code",
   "execution_count": null,
   "metadata": {
    "collapsed": false
   },
   "outputs": [],
   "source": [
    "fig = pyplot.figure()\n",
    "ax = fig.add_subplot(1,1,1)\n",
    "ax.set_aspect('equal')\n",
    "pyplot.imshow(U)\n",
    "pyplot.colorbar()\n",
    "pyplot.show()"
   ]
  },
  {
   "cell_type": "code",
   "execution_count": null,
   "metadata": {
    "collapsed": false
   },
   "outputs": [],
   "source": [
    "fig = pyplot.figure()\n",
    "ax = fig.add_subplot(1,1,1)\n",
    "ax.set_aspect('equal')\n",
    "pyplot.imshow(V)\n",
    "pyplot.colorbar()\n",
    "pyplot.show()"
   ]
  },
  {
   "cell_type": "markdown",
   "metadata": {},
   "source": [
    "According to Module 4 Lesson 3"
   ]
  },
  {
   "cell_type": "code",
   "execution_count": null,
   "metadata": {
    "collapsed": false
   },
   "outputs": [],
   "source": [
    "def ftcs(U, V, Du, Dv, dx, dy, nt, dt, F, k):\n",
    "    \n",
    "    alpha = Du*dt/(dx**2)\n",
    "    beta = Du*dt/(dy**2)\n",
    "    delta = Dv*dt/(dx**2)\n",
    "    gamma = Dv*dt/(dy**2)\n",
    "    \n",
    "    for n in range (nt):\n",
    "    \n",
    "        Un = U.copy()\n",
    "        Vn = V.copy()\n",
    "        U[1:-1, 1:-1] = (alpha*Un[1:-1, 1:-1]+\n",
    "                (1-Vn[1:-1, 1:-1]**2*dt - 2*alpha - 2*beta - F*dt)*Un[1:-1, 1:-1]+ \n",
    "                alpha*Un[:-2, 1:-1] + \n",
    "                beta*(Un[1:-1, 2:] - 2*Un[1:-1, 1:-1] + Un[1:-1,:-2])+\n",
    "                F*dt)\n",
    "        V[1:-1, 1:-1] = (delta*Vn[2: , 1:-1] + \\\n",
    "                (1-(F+k)*dt- 2*delta - 2*gamma)*Vn[1:-1, 1:-1]+\\\n",
    "                delta*Vn[:-2, 1:-1]+ \\\n",
    "                gamma*(Vn[1:-1, 2: ] - 2*Vn[1:-1, 1:-1] + Vn[1:-1, :-2])+\\\n",
    "                Un[1:-1, 1:-1]*(Vn[1:-1,1:-1]**2)*dt)\n",
    "        #Neumann bounday conditions\n",
    "        U[0, :] = U[1, :]\n",
    "        U[-1,:] = U[-2,:]\n",
    "        U[:, 0] = U[:, 1]\n",
    "        U[:, -1] = U[:, -2]\n",
    "        V[0, :] = V[1, :]\n",
    "        V[-1,:] = V[-2,:]\n",
    "        V[:, 0] = V[:, 1]\n",
    "        V[:, -1] = V[:, -2]\n",
    "    return U, V \n",
    "             "
   ]
  },
  {
   "cell_type": "code",
   "execution_count": null,
   "metadata": {
    "collapsed": false
   },
   "outputs": [],
   "source": [
    "#initialize\n",
    "n = 192\n",
    "Du, Dv, F, k = 0.00016, 0.00008, 0.035, 0.065\n",
    "dh = 5./(n-1)\n",
    "dx=dh\n",
    "dy=dh\n",
    "T = 8000\n",
    "dt = 0.9*dh**2/(4*max(Du, Dv))\n",
    "nt = int(T/dt)\n",
    "Ui = U.copy()\n",
    "Vi = V.copy()"
   ]
  },
  {
   "cell_type": "code",
   "execution_count": null,
   "metadata": {
    "collapsed": false
   },
   "outputs": [],
   "source": [
    "Uresult,Vresult=ftcs(Ui, Vi, Du, Dv, dx, dy, nt, dt, F, k)"
   ]
  },
  {
   "cell_type": "code",
   "execution_count": null,
   "metadata": {
    "collapsed": false
   },
   "outputs": [],
   "source": [
    "Uresult"
   ]
  },
  {
   "cell_type": "code",
   "execution_count": null,
   "metadata": {
    "collapsed": true
   },
   "outputs": [],
   "source": []
  }
 ],
 "metadata": {
  "anaconda-cloud": {},
  "kernelspec": {
   "display_name": "Python [default]",
   "language": "python",
   "name": "python3"
  },
  "language_info": {
   "codemirror_mode": {
    "name": "ipython",
    "version": 3
   },
   "file_extension": ".py",
   "mimetype": "text/x-python",
   "name": "python",
   "nbconvert_exporter": "python",
   "pygments_lexer": "ipython3",
   "version": "3.5.2"
  }
 },
 "nbformat": 4,
 "nbformat_minor": 1
}
