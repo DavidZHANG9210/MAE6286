{
 "cells": [
  {
   "cell_type": "code",
   "execution_count": 1,
   "metadata": {
    "collapsed": true
   },
   "outputs": [],
   "source": [
    "%matplotlib inline\n",
    "import numpy\n",
    "from matplotlib import pyplot\n",
    "from matplotlib import rcParams\n",
    "rcParams['font.family']='serif'\n",
    "rcParams['font.size']=16"
   ]
  },
  {
   "cell_type": "code",
   "execution_count": 2,
   "metadata": {
    "collapsed": true
   },
   "outputs": [],
   "source": [
    "nx = 81\n",
    "dx = 0.25\n",
    "dt = 0.0002\n",
    "gamma = 1.4"
   ]
  },
  {
   "cell_type": "code",
   "execution_count": 12,
   "metadata": {
    "collapsed": false
   },
   "outputs": [],
   "source": [
    "x = numpy.arange(-10, 10, 20/nx)"
   ]
  },
  {
   "cell_type": "code",
   "execution_count": 13,
   "metadata": {
    "collapsed": false
   },
   "outputs": [
    {
     "data": {
      "text/plain": [
       "array([-10.        ,  -9.75308642,  -9.50617284,  -9.25925926,\n",
       "        -9.01234568,  -8.7654321 ,  -8.51851852,  -8.27160494,\n",
       "        -8.02469136,  -7.77777778,  -7.5308642 ,  -7.28395062,\n",
       "        -7.03703704,  -6.79012346,  -6.54320988,  -6.2962963 ,\n",
       "        -6.04938272,  -5.80246914,  -5.55555556,  -5.30864198,\n",
       "        -5.0617284 ,  -4.81481481,  -4.56790123,  -4.32098765,\n",
       "        -4.07407407,  -3.82716049,  -3.58024691,  -3.33333333,\n",
       "        -3.08641975,  -2.83950617,  -2.59259259,  -2.34567901,\n",
       "        -2.09876543,  -1.85185185,  -1.60493827,  -1.35802469,\n",
       "        -1.11111111,  -0.86419753,  -0.61728395,  -0.37037037,\n",
       "        -0.12345679,   0.12345679,   0.37037037,   0.61728395,\n",
       "         0.86419753,   1.11111111,   1.35802469,   1.60493827,\n",
       "         1.85185185,   2.09876543,   2.34567901,   2.59259259,\n",
       "         2.83950617,   3.08641975,   3.33333333,   3.58024691,\n",
       "         3.82716049,   4.07407407,   4.32098765,   4.56790123,\n",
       "         4.81481481,   5.0617284 ,   5.30864198,   5.55555556,\n",
       "         5.80246914,   6.04938272,   6.2962963 ,   6.54320988,\n",
       "         6.79012346,   7.03703704,   7.28395062,   7.5308642 ,\n",
       "         7.77777778,   8.02469136,   8.27160494,   8.51851852,\n",
       "         8.7654321 ,   9.01234568,   9.25925926,   9.50617284,   9.75308642])"
      ]
     },
     "execution_count": 13,
     "metadata": {},
     "output_type": "execute_result"
    }
   ],
   "source": [
    "x"
   ]
  },
  {
   "cell_type": "code",
   "execution_count": 18,
   "metadata": {
    "collapsed": true
   },
   "outputs": [],
   "source": [
    "rho_0 = numpy.empty_like(x)\n",
    "u_0 = numpy.empty_like(x)\n",
    "p_0 = numpy.empty_like(x)\n",
    "k = 0"
   ]
  },
  {
   "cell_type": "code",
   "execution_count": 19,
   "metadata": {
    "collapsed": true
   },
   "outputs": [],
   "source": [
    "#define ICL&ICR"
   ]
  },
  {
   "cell_type": "code",
   "execution_count": 20,
   "metadata": {
    "collapsed": false
   },
   "outputs": [],
   "source": [
    "for i in x:\n",
    "    if i<0:\n",
    "        rho_0[k] = 1.\n",
    "        u_0[k] = 0.\n",
    "        p_0[k] = 100000.\n",
    "    else:\n",
    "        rho_0[k] = 0.125\n",
    "        u_0[k] = 0.\n",
    "        p_0[k] = 10000.\n",
    "    k=k+1"
   ]
  },
  {
   "cell_type": "code",
   "execution_count": 23,
   "metadata": {
    "collapsed": true
   },
   "outputs": [],
   "source": [
    "def computeT(p, rho, u, gamma):\n",
    "    eT = p/(rho*(gamma-1))+0.5*u**2\n",
    "    return eT"
   ]
  },
  {
   "cell_type": "code",
   "execution_count": 24,
   "metadata": {
    "collapsed": false
   },
   "outputs": [],
   "source": [
    "e_T = computeT(p_0, rho_0, u_0, gamma)\n",
    "u = numpy.zeros((3, nx))\n",
    "u[0, ] = rho_0\n",
    "u[1, ] = rho_0*u_0\n",
    "u[2, ] = rho_0*e_T\n",
    "def computeF(u):\n",
    "    F = numpy.zeros_like(u)\n",
    "    u_1 = u[0, ]\n",
    "    u_2 = u[1, ]\n",
    "    u_3 = u[2, ]\n",
    "    F[0, ] = u_2\n",
    "    F[1, ] = u_2**2/u_1 + (gamma-1)*(u_3-0.5*u_2**2/u_1)\n",
    "    F[2, ] = (u_3 + (gamma-1)*(u_3-0.5*u_2**2/u_1))*u_2/u_1\n",
    "    return F"
   ]
  },
  {
   "cell_type": "code",
   "execution_count": null,
   "metadata": {
    "collapsed": true
   },
   "outputs": [],
   "source": [
    "un = numpy.zeros_like(u)\n",
    "uplus = numpy.zeros_like(u)\n",
    "fplus = compute"
   ]
  }
 ],
 "metadata": {
  "kernelspec": {
   "display_name": "Python [default]",
   "language": "python",
   "name": "python3"
  },
  "language_info": {
   "codemirror_mode": {
    "name": "ipython",
    "version": 3
   },
   "file_extension": ".py",
   "mimetype": "text/x-python",
   "name": "python",
   "nbconvert_exporter": "python",
   "pygments_lexer": "ipython3",
   "version": "3.5.2"
  }
 },
 "nbformat": 4,
 "nbformat_minor": 1
}
