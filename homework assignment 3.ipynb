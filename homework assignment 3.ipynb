{
 "cells": [
  {
   "cell_type": "code",
   "execution_count": 1,
   "metadata": {
    "collapsed": true
   },
   "outputs": [],
   "source": [
    "%matplotlib inline\n",
    "import numpy\n",
    "from matplotlib import pyplot\n",
    "from matplotlib import rcParams\n",
    "rcParams['font.family']='serif'\n",
    "rcParams['font.size']=16"
   ]
  },
  {
   "cell_type": "code",
   "execution_count": 2,
   "metadata": {
    "collapsed": true
   },
   "outputs": [],
   "source": [
    "nx = 81\n",
    "dx = 0.25\n",
    "dt = 0.0002\n",
    "gamma = 1.4"
   ]
  },
  {
   "cell_type": "code",
   "execution_count": 3,
   "metadata": {
    "collapsed": false
   },
   "outputs": [],
   "source": [
    "x = numpy.linspace(-10, 10, nx)"
   ]
  },
  {
   "cell_type": "code",
   "execution_count": 4,
   "metadata": {
    "collapsed": false
   },
   "outputs": [
    {
     "data": {
      "text/plain": [
       "array([-10.  ,  -9.75,  -9.5 ,  -9.25,  -9.  ,  -8.75,  -8.5 ,  -8.25,\n",
       "        -8.  ,  -7.75,  -7.5 ,  -7.25,  -7.  ,  -6.75,  -6.5 ,  -6.25,\n",
       "        -6.  ,  -5.75,  -5.5 ,  -5.25,  -5.  ,  -4.75,  -4.5 ,  -4.25,\n",
       "        -4.  ,  -3.75,  -3.5 ,  -3.25,  -3.  ,  -2.75,  -2.5 ,  -2.25,\n",
       "        -2.  ,  -1.75,  -1.5 ,  -1.25,  -1.  ,  -0.75,  -0.5 ,  -0.25,\n",
       "         0.  ,   0.25,   0.5 ,   0.75,   1.  ,   1.25,   1.5 ,   1.75,\n",
       "         2.  ,   2.25,   2.5 ,   2.75,   3.  ,   3.25,   3.5 ,   3.75,\n",
       "         4.  ,   4.25,   4.5 ,   4.75,   5.  ,   5.25,   5.5 ,   5.75,\n",
       "         6.  ,   6.25,   6.5 ,   6.75,   7.  ,   7.25,   7.5 ,   7.75,\n",
       "         8.  ,   8.25,   8.5 ,   8.75,   9.  ,   9.25,   9.5 ,   9.75,  10.  ])"
      ]
     },
     "execution_count": 4,
     "metadata": {},
     "output_type": "execute_result"
    }
   ],
   "source": [
    "x"
   ]
  },
  {
   "cell_type": "code",
   "execution_count": 5,
   "metadata": {
    "collapsed": true
   },
   "outputs": [],
   "source": [
    "rho_0 = numpy.empty_like(x)\n",
    "u_0 = numpy.empty_like(x)\n",
    "p_0 = numpy.empty_like(x)\n",
    "k = 0"
   ]
  },
  {
   "cell_type": "code",
   "execution_count": 6,
   "metadata": {
    "collapsed": true
   },
   "outputs": [],
   "source": [
    "#define ICL&ICR"
   ]
  },
  {
   "cell_type": "code",
   "execution_count": 7,
   "metadata": {
    "collapsed": false
   },
   "outputs": [],
   "source": [
    "for i in x:\n",
    "    if i<0:\n",
    "        rho_0[k] = 1.\n",
    "        u_0[k] = 0.\n",
    "        p_0[k] = 100000.\n",
    "    else:\n",
    "        rho_0[k] = 0.125\n",
    "        u_0[k] = 0.\n",
    "        p_0[k] = 10000.\n",
    "    k=k+1"
   ]
  },
  {
   "cell_type": "code",
   "execution_count": 8,
   "metadata": {
    "collapsed": true
   },
   "outputs": [],
   "source": [
    "def computeT(p, rho, u, gamma):\n",
    "    eT = p/(rho*(gamma-1))+0.5*u**2\n",
    "    return eT"
   ]
  },
  {
   "cell_type": "code",
   "execution_count": 9,
   "metadata": {
    "collapsed": false
   },
   "outputs": [],
   "source": [
    "e_T = computeT(p_0, rho_0, u_0, gamma)\n",
    "u = numpy.zeros((3, nx))\n",
    "u[0, ] = rho_0\n",
    "u[1, ] = rho_0*u_0\n",
    "u[2, ] = rho_0*e_T\n",
    "def computeF(u):\n",
    "    F = numpy.zeros_like(u)\n",
    "    u_1 = u[0, ]\n",
    "    u_2 = u[1, ]\n",
    "    u_3 = u[2, ]\n",
    "    F[0, ] = u_2\n",
    "    F[1, ] = u_2**2/u_1 + (gamma-1)*(u_3-0.5*u_2**2/u_1)\n",
    "    F[2, ] = (u_3 + (gamma-1)*(u_3-0.5*u_2**2/u_1))*u_2/u_1\n",
    "    return F"
   ]
  },
  {
   "cell_type": "code",
   "execution_count": 10,
   "metadata": {
    "collapsed": true
   },
   "outputs": [],
   "source": [
    "un = numpy.zeros_like(u)\n",
    "uhalf = numpy.zeros_like(u)\n",
    "Fhalf = numpy.zeros_like(u)\n",
    "F = numpy.zeros_like(u)"
   ]
  },
  {
   "cell_type": "code",
   "execution_count": 12,
   "metadata": {
    "collapsed": false
   },
   "outputs": [],
   "source": [
    "for n in range (1, 51):\n",
    "    un = u.copy()\n",
    "    F = computeF(u)\n",
    "    uhalf[:, :-1] = 0.5*(un[:, 1:] + un[:, :-1]) - dt/(2*dx) *(F[:, 1:] - F[:, :-1])\n",
    "    uhalf[:, -1] = u[:, -1]\n",
    "    Fhalf = computeF(uhalf)\n",
    "    u[:, 1: -1] = un[:, 1: -1] - dt/dx* (Fhalf[:, 1:-1]- Fhalf[:, :-2])"
   ]
  },
  {
   "cell_type": "code",
   "execution_count": 13,
   "metadata": {
    "collapsed": false
   },
   "outputs": [
    {
     "name": "stdout",
     "output_type": "stream",
     "text": [
      "50\n",
      "rho= 0.374691402648\n",
      "u= 292.611471527\n",
      "preasure= 30250.8901676\n"
     ]
    }
   ],
   "source": [
    "for i in range (len(x)):\n",
    "    if x[i] == 2.5:\n",
    "        print (i)\n",
    "        print ('rho=', u[0, i])\n",
    "        print ('u=', u[1, i]/ u[0, i])\n",
    "        print ('preasure=', (gamma -1)*(u[2, i]-0.5*(u[1, i]**2/u[0, i])))"
   ]
  },
  {
   "cell_type": "code",
   "execution_count": null,
   "metadata": {
    "collapsed": true
   },
   "outputs": [],
   "source": []
  }
 ],
 "metadata": {
  "kernelspec": {
   "display_name": "Python [default]",
   "language": "python",
   "name": "python3"
  },
  "language_info": {
   "codemirror_mode": {
    "name": "ipython",
    "version": 3
   },
   "file_extension": ".py",
   "mimetype": "text/x-python",
   "name": "python",
   "nbconvert_exporter": "python",
   "pygments_lexer": "ipython3",
   "version": "3.5.2"
  }
 },
 "nbformat": 4,
 "nbformat_minor": 1
}
