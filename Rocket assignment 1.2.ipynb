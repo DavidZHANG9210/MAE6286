{
 "cells": [
  {
   "cell_type": "code",
   "execution_count": 1,
   "metadata": {
    "collapsed": true
   },
   "outputs": [],
   "source": [
    "from math import sin, cos, log, ceil\n",
    "import numpy\n",
    "from matplotlib import pyplot\n",
    "%matplotlib inline\n",
    "from matplotlib import rcParams\n",
    "rcParams['font.family'] = 'serif'\n",
    "rcParams['font.size'] = 16"
   ]
  },
  {
   "cell_type": "code",
   "execution_count": 6,
   "metadata": {
    "collapsed": false
   },
   "outputs": [],
   "source": [
    "# model parameters:\n",
    "ms=50         #unit kg weight of the rocket shell\n",
    "g = 9.81      # gravity in m s^{-2}\n",
    "p=1.091       #average air density constant throughout flight in kg/m^3\n",
    "r=0.5\n",
    "A=numpy.pi*(r**2)      #maxium cross sectional area of the rocket \n",
    "ve=325        #exhaust speed in m/s\n",
    "Cd=0.15       #drag coefficient\n",
    "mp0=100       #initial weight of the rocket propellant in kg\n",
    "mpc=20        # mass flow rate in kg/s\n",
    "def get_mp(t, mp0):\n",
    "    if (t>=5):\n",
    "        return 0\n",
    "    else:\n",
    "        return mp0-20*t\n",
    "#set initial conditions:\n",
    "v0=0    #start at stationary condition\n",
    "h0=0    #launch from the ground\n",
    "t0=0     #initial launching time"
   ]
  },
  {
   "cell_type": "code",
   "execution_count": 8,
   "metadata": {
    "collapsed": false
   },
   "outputs": [],
   "source": [
    "def f(u):\n",
    "    h=u[0]\n",
    "    v=u[1]\n",
    "    mp=u[2]\n",
    "    t=u[3]\n",
    "    return numpy.array([v, \n",
    "                        -g+mpc*ve/(ms+mp)-p*v*numpy.abs(v)*A*Cd/(2*(ms+mp)),\n",
    "                        -mpc, \n",
    "                        1])"
   ]
  },
  {
   "cell_type": "code",
   "execution_count": null,
   "metadata": {
    "collapsed": true
   },
   "outputs": [],
   "source": []
  }
 ],
 "metadata": {
  "kernelspec": {
   "display_name": "Python [default]",
   "language": "python",
   "name": "python3"
  },
  "language_info": {
   "codemirror_mode": {
    "name": "ipython",
    "version": 3
   },
   "file_extension": ".py",
   "mimetype": "text/x-python",
   "name": "python",
   "nbconvert_exporter": "python",
   "pygments_lexer": "ipython3",
   "version": "3.5.2"
  }
 },
 "nbformat": 4,
 "nbformat_minor": 1
}
