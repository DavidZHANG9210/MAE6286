{
 "cells": [
  {
   "cell_type": "code",
   "execution_count": null,
   "metadata": {
    "collapsed": true
   },
   "outputs": [],
   "source": [
    "from math import sin, cos, log, ceil\n",
    "import numpy\n",
    "from matplotlib import pyplot\n",
    "%matplotlib inline\n",
    "from matplotlib import rcParams\n",
    "rcParams['font.family'] = 'serif'\n",
    "rcParams['font.size'] = 16"
   ]
  },
  {
   "cell_type": "code",
   "execution_count": null,
   "metadata": {
    "collapsed": false
   },
   "outputs": [],
   "source": [
    "# model parameters:\n",
    "ms=50.0         #unit kg weight of the rocket shell\n",
    "g = 9.81      # gravity in m s^{-2}\n",
    "p=1.091       #average air density constant throughout flight in kg/m^3\n",
    "r=0.5\n",
    "A=numpy.pi*(r**2)      #maxium cross sectional area of the rocket \n",
    "ve=325.0        #exhaust speed in m/s\n",
    "Cd=0.15       #drag coefficient\n",
    "mp0=100.0       #initial weight of the rocket propellant in kg\n",
    "mpc=20.0        # mass flow rate in kg/s\n",
    "def get_mp(t, mp0):\n",
    "    if (t>=5):\n",
    "        return 0\n",
    "    else return mp0-20*t\n",
    "#set initial conditions:\n",
    "v0=0.0    #start at stationary condition\n",
    "h0=0.0    #launch from the ground\n",
    "t0=0.0     #initial launching time"
   ]
  },
  {
   "cell_type": "code",
   "execution_count": null,
   "metadata": {
    "collapsed": false
   },
   "outputs": [],
   "source": [
    "def f(u):\n",
    "    h=u[0]\n",
    "    v=u[1]\n",
    "    return numpy.array([v, \n",
    "                        -g+mpc*ve/(ms+mp)-p*v*numpy.abs(v)*A*Cd/(2*(ms+mp))])"
   ]
  },
  {
   "cell_type": "code",
   "execution_count": null,
   "metadata": {
    "collapsed": false
   },
   "outputs": [],
   "source": [
    "\n",
    "def euler_step(u, f, dt):\n",
    "    return u+dt*f(u)\n",
    "\n",
    "T=50.0                  #final time\n",
    "dt=0.1                #time increment\n",
    "N=int(T/dt)+1         #number of time-steps\n",
    "#initialize the array containing the soluton for each time-step\n",
    "u=numpy.empty((N, 2))\n",
    "u[0]=numpy.array([h0, v0])   #fill 1st element with initial values\n",
    "\n",
    "#time loop- Euler method\n",
    "for n in range(N-1):\n",
    "    u[n+1]= euler_step(u[n], f, dt)"
   ]
  },
  {
   "cell_type": "code",
   "execution_count": null,
   "metadata": {
    "collapsed": false
   },
   "outputs": [],
   "source": [
    "h=u[:,0]"
   ]
  },
  {
   "cell_type": "code",
   "execution_count": null,
   "metadata": {
    "collapsed": false
   },
   "outputs": [],
   "source": [
    "h"
   ]
  },
  {
   "cell_type": "code",
   "execution_count": null,
   "metadata": {
    "collapsed": true
   },
   "outputs": [],
   "source": []
  }
 ],
 "metadata": {
  "kernelspec": {
   "display_name": "Python [default]",
   "language": "python",
   "name": "python3"
  },
  "language_info": {
   "codemirror_mode": {
    "name": "ipython",
    "version": 3
   },
   "file_extension": ".py",
   "mimetype": "text/x-python",
   "name": "python",
   "nbconvert_exporter": "python",
   "pygments_lexer": "ipython3",
   "version": "3.5.2"
  }
 },
 "nbformat": 4,
 "nbformat_minor": 1
}
