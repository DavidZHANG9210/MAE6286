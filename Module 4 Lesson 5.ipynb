{
 "cells": [
  {
   "cell_type": "code",
   "execution_count": 1,
   "metadata": {
    "collapsed": true
   },
   "outputs": [],
   "source": [
    "import numpy\n",
    "from scipy.linalg import solve"
   ]
  },
  {
   "cell_type": "code",
   "execution_count": 4,
   "metadata": {
    "collapsed": false
   },
   "outputs": [],
   "source": [
    "def generateMatrix(N, sigma):\n",
    "    d = 2*numpy.diag(numpy.ones(N-2)*(1+1./sigma))\n",
    "    d[-1, -1] = 1+2./sigma\n",
    "    ud = numpy.diag(numpy.ones(N-3)*-1, 1)\n",
    "    ld = numpy.diag(numpy.ones(N-3)*-1, -1)\n",
    "    A = d+ud+ld\n",
    "    return A"
   ]
  },
  {
   "cell_type": "code",
   "execution_count": 6,
   "metadata": {
    "collapsed": false
   },
   "outputs": [
    {
     "data": {
      "text/plain": [
       "array([[ 10.,  -1.,   0.,   0.,   0.,   0.,   0.,   0.],\n",
       "       [ -1.,  10.,  -1.,   0.,   0.,   0.,   0.,   0.],\n",
       "       [  0.,  -1.,  10.,  -1.,   0.,   0.,   0.,   0.],\n",
       "       [  0.,   0.,  -1.,  10.,  -1.,   0.,   0.,   0.],\n",
       "       [  0.,   0.,   0.,  -1.,  10.,  -1.,   0.,   0.],\n",
       "       [  0.,   0.,   0.,   0.,  -1.,  10.,  -1.,   0.],\n",
       "       [  0.,   0.,   0.,   0.,   0.,  -1.,  10.,  -1.],\n",
       "       [  0.,   0.,   0.,   0.,   0.,   0.,  -1.,   9.]])"
      ]
     },
     "execution_count": 6,
     "metadata": {},
     "output_type": "execute_result"
    }
   ],
   "source": [
    "generateMatrix(10, 0.25)"
   ]
  },
  {
   "cell_type": "code",
   "execution_count": 7,
   "metadata": {
    "collapsed": true
   },
   "outputs": [],
   "source": [
    "def generateRHS(T, sigma):\n",
    "    b = T[1:-1]*2*(1./sigma-1)+T[:-2]+T[2:]\n",
    "    b[0] += T[0]\n",
    "    return b"
   ]
  },
  {
   "cell_type": "code",
   "execution_count": 8,
   "metadata": {
    "collapsed": true
   },
   "outputs": [],
   "source": [
    "def CrankNicolson(T, A, nt, sigma):\n",
    "    for t in range (nt):\n",
    "        Tn = T.copy()\n",
    "        b = generateRHS(Tn, sigma)\n",
    "        T_interior = solve(A, b)\n",
    "        T[1:-1] = T_interior\n",
    "        T[-1] = T[-2]\n",
    "    return T"
   ]
  },
  {
   "cell_type": "code",
   "execution_count": 9,
   "metadata": {
    "collapsed": true
   },
   "outputs": [],
   "source": [
    "L = 1\n",
    "nx = 21\n",
    "alpha = 1.22e-3\n",
    "dx = L/(nx-1)\n",
    "Ti = numpy.zeros(nx)\n",
    "Ti[0] = 100\n",
    "sigma = 0.5\n",
    "dt = sigma *dx*dx/alpha\n",
    "nt = 10\n",
    "A = generateMatrix(nx, sigma)"
   ]
  },
  {
   "cell_type": "code",
   "execution_count": null,
   "metadata": {
    "collapsed": true
   },
   "outputs": [],
   "source": []
  }
 ],
 "metadata": {
  "kernelspec": {
   "display_name": "Python [default]",
   "language": "python",
   "name": "python3"
  },
  "language_info": {
   "codemirror_mode": {
    "name": "ipython",
    "version": 3
   },
   "file_extension": ".py",
   "mimetype": "text/x-python",
   "name": "python",
   "nbconvert_exporter": "python",
   "pygments_lexer": "ipython3",
   "version": "3.5.2"
  }
 },
 "nbformat": 4,
 "nbformat_minor": 1
}
